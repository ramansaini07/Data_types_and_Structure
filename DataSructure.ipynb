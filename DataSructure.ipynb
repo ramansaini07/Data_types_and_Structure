{
  "nbformat": 4,
  "nbformat_minor": 0,
  "metadata": {
    "colab": {
      "provenance": []
    },
    "kernelspec": {
      "name": "python3",
      "display_name": "Python 3"
    },
    "language_info": {
      "name": "python"
    }
  },
  "cells": [
    {
      "cell_type": "code",
      "execution_count": null,
      "metadata": {
        "id": "uEcUgTIjDHkO"
      },
      "outputs": [],
      "source": []
    },
    {
      "cell_type": "markdown",
      "source": [
        "# Data Type and Structure\n",
        "1. What are data structures, and why are they important?\n",
        "- Data structures are ways to organize and store data for efficient access and modification. Python provides several built-in data structures, including:\n",
        "\n",
        "1. **Primitive Data Types**:\n",
        "   - `int`, `float`, `str`, `bool`.\n",
        "\n",
        "2. **Non-Primitive Data Structures**:\n",
        "   - **List**: Ordered, mutable collection (`[1, 2, 3]`).\n",
        "   - **Tuple**: Ordered, immutable collection (`(1, 2, 3)`).\n",
        "   - **Set**: Unordered, unique collection (`{1, 2, 3}`).\n",
        "   - **Dictionary**: Key-value pairs (`{'name': 'Alice', 'age': 25}`).\n",
        "\n",
        "3. **Advanced Structures**:\n",
        "   - **Stack**: LIFO (use a list: `.append()`, `.pop()`).\n",
        "   - **Queue**: FIFO (use `collections.deque`).\n",
        "   - **Linked List**: Custom implementation with nodes.\n",
        "   - **Priority Queue**: Min-heap with `heapq`.\n",
        "\n",
        "### Why They Matter:\n",
        "- **Efficiency**: Faster operations (e.g., search, insert, delete).\n",
        "- **Scalability**: Handle large datasets effectively.\n",
        "- **Readability**: Built-in structures make code cleaner and easier to maintain.\n",
        "\n",
        "   Data structures are essential for optimizing performance and ensuring your code works well as the amount of data grows.\n",
        "\n",
        "2.Explain the difference between mutable and immutable data types with examples?\n",
        "- Mutable: Data types that can be changed after creation. Example: list, set, dictionary.\n",
        "-Immutable: Data types that cannot be modified after creation. Example: tuple, string, int.\n",
        "\n",
        "3.What are the main differences between lists and tuples in Python?\n",
        "- Lists:\n",
        "  - Mutable (can be changed).\n",
        "  - Defined with square brackets: [1, 2, 3].\n",
        "- Tuples:\n",
        "  - Immutable (cannot be changed).\n",
        "  - Defined with parentheses: (1, 2, 3).\n",
        "\n",
        "4.Describe how dictionaries store data?\n",
        " - Dictionaries store data as key-value pairs.\n",
        " - Data is stored in an unordered fashion, with each key being unique.\n",
        "   - Example: {'name': 'Alice', 'age': 25}.\n",
        "   \n",
        "5.Why might you use a set instead of a list in Python?\n",
        "- Sets are useful when you need to store unique elements without duplicates.\n",
        "- Example: {1, 2, 3} removes duplicates automatically, unlike lists.\n",
        "\n",
        "6.What is a string in Python, and how is it different from a list?\n",
        "- String: An immutable sequence of characters.\n",
        "- List: A mutable sequence of elements (which can be of any data type).\n",
        "- Strings are fixed once created, while lists can be changed.\n",
        "\n",
        "7.How do tuples ensure data integrity in Python?\n",
        "- Tuples are immutable, which ensures that their data cannot be modified once created, maintaining data integrity.\n",
        "\n",
        "8.What is a hash table, and how does it relate to dictionaries in Python?\n",
        "- A hash table is a data structure that maps keys to values using a hash function.\n",
        "- In Python, dictionaries are implemented using hash tables, allowing for fast lookups.\n",
        "\n",
        "9.Can lists contain different data types in Python?\n",
        "- Yes, lists can contain elements of different data types (e.g., integers, strings, other lists).\n",
        "\n",
        "10.Explain why strings are immutable in Python?\n",
        "- Strings are immutable to ensure that their data remains constant and to optimize performance. This also allows strings to be safely used in situations where immutability is required (e.g., as keys in dictionaries).\n",
        "\n",
        "11.What advantages do dictionaries offer over lists for certain tasks?\n",
        "- Dictionaries offer faster lookups, as data is accessed via keys (O(1) average time complexity), while lists require searching through each element (O(n) time complexity).\n",
        "\n",
        "12.Describe a scenario where using a tuple would be preferable over a list?\n",
        "- Use tuples when you need an immutable collection of items that should not be modified, such as coordinates (e.g., (x, y) for 2D points).\n",
        "\n",
        "13.How do sets handle duplicate values in Python?\n",
        "- Sets automatically remove duplicate values. If you try to add a duplicate element, it will not be stored.\n",
        "\n",
        "14.How does the “in” keyword work differently for lists and dictionaries?\n",
        "- In lists, the in keyword checks if a specific element is present.\n",
        "- In dictionaries, the in keyword checks if a key is present.\n",
        "\n",
        "15.Can you modify the elements of a tuple? Explain why or why not?\n",
        "- No, tuples are immutable, meaning you cannot modify, add, or remove elements once created.\n",
        "\n",
        "16.What is a nested dictionary, and give an example of its use case?\n",
        "- A nested dictionary is a dictionary where the value can be another dictionary.\n",
        "Example:-\n",
        "\n",
        "\n",
        "student = {\n",
        "\n",
        "    'name': 'Alice',\n",
        "    'address': {'city': 'New York', 'zip': '10001'}\n",
        "}\n",
        "\n",
        "17.Describe the time complexity of accessing elements in a dictionary?\n",
        "- Accessing elements by key in a dictionary is O(1) on average due to hashing.\n",
        "\n",
        "18.In what situations are lists preferred over dictionaries?\n",
        "- Use lists when you need an ordered collection, especially when you want to access elements by position (index) rather than by key.\n",
        "\n",
        "\n",
        "19.Why are dictionaries considered unordered, and how does that affect data retrieval?\n",
        "- Dictionaries are unordered because the keys are hashed, meaning there is no guaranteed order of the elements.\n",
        "- Data retrieval is done by key, not by index, so the order doesn't matter.\n",
        "\n",
        "20.Explain the difference between a list and a dictionary in terms of data retrieval?\n",
        "- Lists: Retrieve data by index (ordered).For e.g:-\n",
        "\n",
        "my_list = [10, 20, 30]\n",
        "\n",
        "print(my_list[1])\n",
        " # Output: 20\n",
        "- Dictionaries: Retrieve data by key (unordered).For e.g:-\n",
        "\n",
        "my_dict = {'a': 10, 'b': 20}\n",
        "\n",
        "print(my_dict['b'])\n",
        " # Output: 20"
      ],
      "metadata": {
        "id": "eEVuoTqUDPAC"
      }
    },
    {
      "cell_type": "markdown",
      "source": [],
      "metadata": {
        "id": "OQFSouLODIpW"
      }
    },
    {
      "cell_type": "code",
      "source": [
        "#1.  Write a code to create a string with your name and print it.\n",
        "name = \"Ramandeep Singh\"\n",
        "print(name)"
      ],
      "metadata": {
        "colab": {
          "base_uri": "https://localhost:8080/"
        },
        "id": "XLxHyxN_JDjv",
        "outputId": "01d8735a-ec67-48ef-f915-4ea10734f47e"
      },
      "execution_count": null,
      "outputs": [
        {
          "output_type": "stream",
          "name": "stdout",
          "text": [
            "Ramandeep Singh\n"
          ]
        }
      ]
    },
    {
      "cell_type": "code",
      "source": [
        "# 2. Write a code to find the length of the string \"Hello World\"\n",
        "str = \"Hello World\"\n",
        "print(len(str))"
      ],
      "metadata": {
        "colab": {
          "base_uri": "https://localhost:8080/"
        },
        "id": "pmWlD2uHJrzg",
        "outputId": "c4327c24-f2af-43a3-e229-7a73bf4989ba"
      },
      "execution_count": null,
      "outputs": [
        {
          "output_type": "stream",
          "name": "stdout",
          "text": [
            "11\n"
          ]
        }
      ]
    },
    {
      "cell_type": "code",
      "source": [
        "# 3.Write a code to slice the first 3 characters from the string \"Python Programming\"\n",
        "str = \"Python Programming\"\n",
        "print(str[0:3])"
      ],
      "metadata": {
        "colab": {
          "base_uri": "https://localhost:8080/"
        },
        "id": "R-b97SkgJ8AO",
        "outputId": "94a90d22-5367-456e-cfb9-8bc7e9130b56"
      },
      "execution_count": null,
      "outputs": [
        {
          "output_type": "stream",
          "name": "stdout",
          "text": [
            "Pyt\n"
          ]
        }
      ]
    },
    {
      "cell_type": "code",
      "source": [
        "#4. Write a code to convert the string \"hello\" to uppercase.\n",
        "str = \"hello\"\n",
        "print(str.upper())"
      ],
      "metadata": {
        "colab": {
          "base_uri": "https://localhost:8080/"
        },
        "id": "O3cEydbUKSKM",
        "outputId": "36e6591b-48b0-47d8-f0ba-4daca457a722"
      },
      "execution_count": null,
      "outputs": [
        {
          "output_type": "stream",
          "name": "stdout",
          "text": [
            "HELLO\n"
          ]
        }
      ]
    },
    {
      "cell_type": "code",
      "source": [
        "# 5.Write a code to replace the word \"apple\" with \"orange\" in the string \"I like apple\"?\n",
        "str = \"I like an apple\"\n",
        "print(str.replace(\"apple\",\"orange\"))"
      ],
      "metadata": {
        "colab": {
          "base_uri": "https://localhost:8080/"
        },
        "id": "iDbF4PO4KcZZ",
        "outputId": "23a9ef51-e09e-49c1-cbd8-fe8045791fd8"
      },
      "execution_count": null,
      "outputs": [
        {
          "output_type": "stream",
          "name": "stdout",
          "text": [
            "I like an orange\n"
          ]
        }
      ]
    },
    {
      "cell_type": "code",
      "source": [
        "# 6.Write a code to create a list with numbers 1 to 5 and print it?\n",
        "list = [1,2,3,4,5]\n",
        "print(list)"
      ],
      "metadata": {
        "colab": {
          "base_uri": "https://localhost:8080/"
        },
        "id": "WgwwTqFaKyDn",
        "outputId": "e2d129b2-7415-4a30-d5c4-1d6fa8f34be9"
      },
      "execution_count": null,
      "outputs": [
        {
          "output_type": "stream",
          "name": "stdout",
          "text": [
            "[1, 2, 3, 4, 5]\n"
          ]
        }
      ]
    },
    {
      "cell_type": "code",
      "source": [
        "#7. Write a code to append the number 10 to the list [1, 2, 3, 4]\n",
        "list = [1,2,3,4]\n",
        "list.append(10)\n",
        "print(list)"
      ],
      "metadata": {
        "colab": {
          "base_uri": "https://localhost:8080/"
        },
        "id": "R0_0omkkLE0y",
        "outputId": "4af1e0b3-b344-4e55-f383-4f476b4ad842"
      },
      "execution_count": null,
      "outputs": [
        {
          "output_type": "stream",
          "name": "stdout",
          "text": [
            "[1, 2, 3, 4, 10]\n"
          ]
        }
      ]
    },
    {
      "cell_type": "code",
      "source": [
        "#8. Write a code to remove the number 3 from the list [1, 2, 3, 4, 5].\n",
        "list = [1,2,3,4,5]\n",
        "list.remove(3)\n",
        "print(list)"
      ],
      "metadata": {
        "colab": {
          "base_uri": "https://localhost:8080/"
        },
        "id": "DhA_cWmtLzIn",
        "outputId": "eb551edc-ae10-48f8-aaca-e54f8fa23d47"
      },
      "execution_count": null,
      "outputs": [
        {
          "output_type": "stream",
          "name": "stdout",
          "text": [
            "[1, 2, 4, 5]\n"
          ]
        }
      ]
    },
    {
      "cell_type": "code",
      "source": [
        "#9.Write a code to access the second element in the list ['a', 'b', 'c', 'd']\n",
        "list = [\"a\",\"b\",\"c\",\"d\"]\n",
        "print(list[1])"
      ],
      "metadata": {
        "colab": {
          "base_uri": "https://localhost:8080/"
        },
        "id": "f38h0FaSMA-U",
        "outputId": "0eee6831-0d7d-4239-d82c-2811ca2b82f2"
      },
      "execution_count": null,
      "outputs": [
        {
          "output_type": "stream",
          "name": "stdout",
          "text": [
            "b\n"
          ]
        }
      ]
    },
    {
      "cell_type": "code",
      "source": [
        "#10. Write a code to reverse the list [10, 20, 30, 40, 50].\n",
        "list = [10,20,30,40,50]\n",
        "list1 = list[::-1]\n",
        "print(list1)"
      ],
      "metadata": {
        "colab": {
          "base_uri": "https://localhost:8080/"
        },
        "id": "smqz1nIRMb2a",
        "outputId": "fcf64ea4-627b-4738-9011-e495a4bfb93e"
      },
      "execution_count": null,
      "outputs": [
        {
          "output_type": "stream",
          "name": "stdout",
          "text": [
            "[50, 40, 30, 20, 10]\n"
          ]
        }
      ]
    },
    {
      "cell_type": "code",
      "source": [
        "# 11.Write a code to create a tuple with the elements 100, 200, 300 and print it.\n",
        "t = (100,200,300)\n",
        "print(t)\n",
        "type(t)"
      ],
      "metadata": {
        "colab": {
          "base_uri": "https://localhost:8080/"
        },
        "id": "MrQda29oNLmg",
        "outputId": "a4181ee4-6f19-456a-c7ba-35da5647cbbf"
      },
      "execution_count": null,
      "outputs": [
        {
          "output_type": "stream",
          "name": "stdout",
          "text": [
            "(100, 200, 300)\n"
          ]
        },
        {
          "output_type": "execute_result",
          "data": {
            "text/plain": [
              "tuple"
            ]
          },
          "metadata": {},
          "execution_count": 19
        }
      ]
    },
    {
      "cell_type": "code",
      "source": [
        "# 12.Write a code to access the second-to-last element of the tuple ('red', 'green', 'blue', 'yellow')\n",
        "tuple = (\"red\",\"green\",\"blue\",\"yellow\")\n",
        "print(tuple[-2])"
      ],
      "metadata": {
        "colab": {
          "base_uri": "https://localhost:8080/"
        },
        "id": "0kFB2nvoNaXE",
        "outputId": "be25c41e-b441-40c1-c66c-ecba02343016"
      },
      "execution_count": null,
      "outputs": [
        {
          "output_type": "stream",
          "name": "stdout",
          "text": [
            "blue\n"
          ]
        }
      ]
    },
    {
      "cell_type": "code",
      "source": [],
      "metadata": {
        "id": "y_DAxMZwN_Et"
      },
      "execution_count": null,
      "outputs": []
    },
    {
      "cell_type": "code",
      "source": [
        "# 13.Write a code to find the minimum number in the tuple (10, 20, 5, 15).\n",
        "tuple = (10,20,5,15)\n",
        "print(min(tuple))"
      ],
      "metadata": {
        "colab": {
          "base_uri": "https://localhost:8080/"
        },
        "id": "QoDSm2kGN5yO",
        "outputId": "3cd7400b-7422-4b90-bd06-e111bf0a4db5"
      },
      "execution_count": null,
      "outputs": [
        {
          "output_type": "stream",
          "name": "stdout",
          "text": [
            "5\n"
          ]
        }
      ]
    },
    {
      "cell_type": "code",
      "source": [
        "# 14.Write a code to find the index of the element \"cat\" in the tuple ('dog', 'cat', 'rabbit').\n",
        "tuple = (\"dog\",\"cat\",\"rabbit\")\n",
        "print(tuple.index(\"cat\"))"
      ],
      "metadata": {
        "colab": {
          "base_uri": "https://localhost:8080/"
        },
        "id": "pSoJenijON93",
        "outputId": "af5dc450-82af-4d62-8e14-01845898a03a"
      },
      "execution_count": null,
      "outputs": [
        {
          "output_type": "stream",
          "name": "stdout",
          "text": [
            "1\n"
          ]
        }
      ]
    },
    {
      "cell_type": "code",
      "source": [
        "# 15. Write a code to create a tuple containing three different fruits and check if \"kiwi\" is in it.\n",
        "tuple =(\"apple\",\"banana\",\"kiwi\")\n",
        "print(\"kiwi\" in tuple)"
      ],
      "metadata": {
        "colab": {
          "base_uri": "https://localhost:8080/"
        },
        "id": "19zd2hEIOvoD",
        "outputId": "b9f0e582-22f7-4390-d1c3-8174258d1c7b"
      },
      "execution_count": null,
      "outputs": [
        {
          "output_type": "stream",
          "name": "stdout",
          "text": [
            "True\n"
          ]
        }
      ]
    },
    {
      "cell_type": "code",
      "source": [
        "#16.Write a code to create a set with the elements 'a', 'b', 'c' and print it.\n",
        "set = {'a','b','c'}\n",
        "print(set)"
      ],
      "metadata": {
        "colab": {
          "base_uri": "https://localhost:8080/"
        },
        "id": "VZbNHg_TPFIr",
        "outputId": "aed87fe7-d8c4-447d-d596-c30470388f1a"
      },
      "execution_count": null,
      "outputs": [
        {
          "output_type": "stream",
          "name": "stdout",
          "text": [
            "{'c', 'b', 'a'}\n"
          ]
        }
      ]
    },
    {
      "cell_type": "code",
      "source": [
        "# 17. Write a code to clear all elements from the set {1, 2, 3, 4, 5}.\n",
        "set = {1,2,3,4,5}\n",
        "set.clear()\n",
        "print(set)"
      ],
      "metadata": {
        "colab": {
          "base_uri": "https://localhost:8080/"
        },
        "id": "P7wTjQQMPV5t",
        "outputId": "ada64f94-ec91-4360-a182-19d196931b9c"
      },
      "execution_count": null,
      "outputs": [
        {
          "output_type": "stream",
          "name": "stdout",
          "text": [
            "set()\n"
          ]
        }
      ]
    },
    {
      "cell_type": "code",
      "source": [
        "#18.Write a code to remove the element 4 from the set {1, 2, 3, 4}.\n",
        "set = {1,2,3,4}\n",
        "set.remove(4)\n",
        "print(set)"
      ],
      "metadata": {
        "colab": {
          "base_uri": "https://localhost:8080/"
        },
        "id": "EpCyesUSPoxa",
        "outputId": "e75c0fd6-cfbb-420b-8285-ba18296e8155"
      },
      "execution_count": null,
      "outputs": [
        {
          "output_type": "stream",
          "name": "stdout",
          "text": [
            "{1, 2, 3}\n"
          ]
        }
      ]
    },
    {
      "cell_type": "markdown",
      "source": [],
      "metadata": {
        "id": "giSg9awEOgUr"
      }
    },
    {
      "cell_type": "code",
      "source": [
        "#19.Write a code to find the union of two sets {1, 2, 3} and {3, 4, 5}.\n",
        "set1 = {1,2,3}\n",
        "set2 = {3,4,5}\n",
        "print(set1.union(set2))"
      ],
      "metadata": {
        "colab": {
          "base_uri": "https://localhost:8080/"
        },
        "id": "xphT7_D0P2rS",
        "outputId": "b37053d8-1662-4566-a56a-77780dd6c375"
      },
      "execution_count": null,
      "outputs": [
        {
          "output_type": "stream",
          "name": "stdout",
          "text": [
            "{1, 2, 3, 4, 5}\n"
          ]
        }
      ]
    },
    {
      "cell_type": "code",
      "source": [
        " #20. Write a code to find the intersection of two sets {1, 2, 3} and {2, 3, 4}.\n",
        "set1 = {1,2,3}\n",
        "set2 = {3,4,5}\n",
        "print(set1.intersection(set2))"
      ],
      "metadata": {
        "colab": {
          "base_uri": "https://localhost:8080/"
        },
        "id": "KniVdsk4QPV8",
        "outputId": "4aa9c923-4b9d-4b42-e8e7-848c6977f480"
      },
      "execution_count": null,
      "outputs": [
        {
          "output_type": "stream",
          "name": "stdout",
          "text": [
            "{3}\n"
          ]
        }
      ]
    },
    {
      "cell_type": "code",
      "source": [
        " # 21.Write a code to create a dictionary with the keys \"name\", \"age\", and \"city\", and print it.\n",
        "dict = {\"name\":\"raman\" ,\"age\":24,\"city\": \"hoshiarpur\"}\n",
        "print(dict)"
      ],
      "metadata": {
        "colab": {
          "base_uri": "https://localhost:8080/"
        },
        "id": "fslBda88Qal2",
        "outputId": "7c1db572-ccb6-4d7e-e3a1-2f8169da3cca"
      },
      "execution_count": null,
      "outputs": [
        {
          "output_type": "stream",
          "name": "stdout",
          "text": [
            "{'name': 'raman', 'age': 24, 'city': 'hoshiarpur'}\n"
          ]
        }
      ]
    },
    {
      "cell_type": "code",
      "source": [
        "#22.Write a code to add a new key-value pair \"country\": \"USA\" to the dictionary {'name': 'John', 'age': 25}.\n",
        "dict = {\"name\":\"john\" ,\"age\":25}\n",
        "dict[\"country\"] = \"USA\"\n",
        "print(dict)"
      ],
      "metadata": {
        "colab": {
          "base_uri": "https://localhost:8080/"
        },
        "id": "31HrFfD4Q7G2",
        "outputId": "67752f3c-db39-4d1c-d541-19f1e6d5821d"
      },
      "execution_count": null,
      "outputs": [
        {
          "output_type": "stream",
          "name": "stdout",
          "text": [
            "{'name': 'john', 'age': 25, 'country': 'USA'}\n"
          ]
        }
      ]
    },
    {
      "cell_type": "code",
      "source": [
        "# 23. Write a code to access the value associated with the key \"name\" in the dictionary {'name': 'Alice', 'age': 30}.\n",
        "dict = {\"name\":\"Alice\" ,\"age\":30}\n",
        "print(dict[\"name\"])"
      ],
      "metadata": {
        "colab": {
          "base_uri": "https://localhost:8080/"
        },
        "id": "jJqmCW6sR7sJ",
        "outputId": "36905b7f-5e52-4673-aac3-beb4ff27261e"
      },
      "execution_count": null,
      "outputs": [
        {
          "output_type": "stream",
          "name": "stdout",
          "text": [
            "Alice\n"
          ]
        }
      ]
    },
    {
      "cell_type": "code",
      "source": [
        "#24. Write a code to remove the key \"age\" from the dictionary {'name': 'Bob', 'age': 22, 'city': 'New York'}\n",
        "dict = {\"name\":\"bob\" ,\"age\":22,\"city\": \"New York\"}\n",
        "dict.pop(\"age\")\n",
        "print(dict)\n"
      ],
      "metadata": {
        "colab": {
          "base_uri": "https://localhost:8080/"
        },
        "id": "zO1M429XSPZl",
        "outputId": "045c79ad-b9d7-4c16-8232-929c6631686d"
      },
      "execution_count": null,
      "outputs": [
        {
          "output_type": "stream",
          "name": "stdout",
          "text": [
            "{'name': 'bob', 'city': 'New York'}\n"
          ]
        }
      ]
    },
    {
      "cell_type": "code",
      "source": [
        "#25.Write a code to check if the key \"city\" exists in the dictionary {'name': 'Alice', 'city': 'Paris'}.\n",
        "dict = {\"name\":\"Alice\",\"city\":\"Paris\"}\n",
        "print(\"city\" in dict)"
      ],
      "metadata": {
        "colab": {
          "base_uri": "https://localhost:8080/"
        },
        "id": "6VSB0QFvTTO1",
        "outputId": "886993b4-af6d-4bc1-aef7-fcef333f5cb9"
      },
      "execution_count": null,
      "outputs": [
        {
          "output_type": "stream",
          "name": "stdout",
          "text": [
            "True\n"
          ]
        }
      ]
    },
    {
      "cell_type": "code",
      "source": [
        "#26. Write a code to create a list, a tuple, and a dictionary, and print them all.\n",
        "l = [1,2,3,4,5]\n",
        "t = (1,2,3,4,5)\n",
        "d = {\"value\":\"1,2,3,4,5\"}\n",
        "print(l, t, d)"
      ],
      "metadata": {
        "colab": {
          "base_uri": "https://localhost:8080/"
        },
        "id": "sSDl3CrgTwAG",
        "outputId": "cf25eca6-c85b-4039-8a95-b4353bfc26c3"
      },
      "execution_count": null,
      "outputs": [
        {
          "output_type": "stream",
          "name": "stdout",
          "text": [
            "[1, 2, 3, 4, 5] (1, 2, 3, 4, 5) {'value': '1,2,3,4,5'}\n"
          ]
        }
      ]
    },
    {
      "cell_type": "code",
      "source": [
        "# 27. Write a code to create a list of 5 random numbers between 1 and 100, sort it in ascending order, and print the result.(replaced)\n",
        "list = [1,5,55,60,65]\n",
        "list1 = sorted(list)\n",
        "print(list1)"
      ],
      "metadata": {
        "colab": {
          "base_uri": "https://localhost:8080/"
        },
        "id": "S8QsCxsFUlJQ",
        "outputId": "7cfdf5ef-fb2e-4a2f-ff7c-2ce885e8a3fe"
      },
      "execution_count": null,
      "outputs": [
        {
          "output_type": "stream",
          "name": "stdout",
          "text": [
            "[1, 5, 55, 60, 65]\n"
          ]
        }
      ]
    },
    {
      "cell_type": "code",
      "source": [
        "# 28.Write a code to create a list with strings and print the element at the third index\n",
        "list = [\"hello\",\"bye\",\"raman\",\"good\",\"awesome\"]\n",
        "print(list[3])"
      ],
      "metadata": {
        "colab": {
          "base_uri": "https://localhost:8080/"
        },
        "id": "2dw910HkVfwq",
        "outputId": "a31d6b7f-7053-4730-e44e-0f576f66a1e2"
      },
      "execution_count": null,
      "outputs": [
        {
          "output_type": "stream",
          "name": "stdout",
          "text": [
            "good\n"
          ]
        }
      ]
    },
    {
      "cell_type": "code",
      "source": [
        "#29. Write a code to combine two dictionaries into one and print the result.\n",
        "dict1 = {\"name\":\"raman\" ,\"age\":24,\"city\": \"hoshiarpur\"}\n",
        "dict2 = {\"nam\":\"bob\" ,\"ag\":22,\"cit\": \"New York\"}\n",
        "dict3 ={**dict1,**dict2}\n",
        "print(dict3)"
      ],
      "metadata": {
        "colab": {
          "base_uri": "https://localhost:8080/"
        },
        "id": "zmFS6ncZVyk1",
        "outputId": "71e5ffaf-d7fe-49cb-a3a0-c605a0f32863"
      },
      "execution_count": null,
      "outputs": [
        {
          "output_type": "stream",
          "name": "stdout",
          "text": [
            "{'name': 'raman', 'age': 24, 'city': 'hoshiarpur', 'nam': 'bob', 'ag': 22, 'cit': 'New York'}\n"
          ]
        }
      ]
    },
    {
      "cell_type": "code",
      "source": [
        "# 30. Write a code to convert a list of strings into a set\n",
        "list1 = [1, 2, 3, 4, 4, 5, 5]\n",
        "type(list1)\n",
        "set1 = set(list1)\n",
        "print(set1)\n",
        "type(set1)"
      ],
      "metadata": {
        "colab": {
          "base_uri": "https://localhost:8080/"
        },
        "id": "S1gC01X8XcWw",
        "outputId": "f4964ad9-aa5f-410f-fe3c-1a21f237f69d"
      },
      "execution_count": 5,
      "outputs": [
        {
          "output_type": "stream",
          "name": "stdout",
          "text": [
            "{1, 2, 3, 4, 5}\n"
          ]
        },
        {
          "output_type": "execute_result",
          "data": {
            "text/plain": [
              "set"
            ]
          },
          "metadata": {},
          "execution_count": 5
        }
      ]
    }
  ]
}